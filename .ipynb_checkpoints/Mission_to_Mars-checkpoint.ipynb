{
 "cells": [
  {
   "cell_type": "code",
   "execution_count": 17,
   "metadata": {},
   "outputs": [],
   "source": [
    "from splinter import Browser\n",
    "from bs4 import BeautifulSoup as soup\n",
    "import pandas as pd\n",
    "from webdriver_manager.chrome import ChromeDriverManager\n",
    "import time\n",
    "from pprint import pprint\n"
   ]
  },
  {
   "cell_type": "code",
   "execution_count": 18,
   "metadata": {},
   "outputs": [
    {
     "name": "stderr",
     "output_type": "stream",
     "text": [
      "[WDM] - ====== WebDriver manager ======\n",
      "[WDM] - Current google-chrome version is 90.0.4430\n",
      "[WDM] - Get LATEST driver version for 90.0.4430\n",
      "[WDM] - Driver [C:\\Users\\user\\.wdm\\drivers\\chromedriver\\win32\\90.0.4430.24\\chromedriver.exe] found in cache\n"
     ]
    },
    {
     "name": "stdout",
     "output_type": "stream",
     "text": [
      "\n",
      "\n"
     ]
    }
   ],
   "source": [
    "executable_path = {'executable_path': ChromeDriverManager().install()}\n",
    "browser = Browser('chrome', **executable_path, headless=False)"
   ]
  },
  {
   "cell_type": "markdown",
   "metadata": {},
   "source": [
    "#  NASA MARS NEWS"
   ]
  },
  {
   "cell_type": "code",
   "execution_count": 19,
   "metadata": {},
   "outputs": [],
   "source": [
    "browser = Browser('chrome', **executable_path, headless=False)\n",
    "url = 'https://redplanetscience.com/'\n",
    "browser.visit(url)\n",
    "html = browser.html\n",
    "news_soup = soup(html, 'html.parser')\n",
    "time.sleep(1)\n",
    "browser.quit()"
   ]
  },
  {
   "cell_type": "code",
   "execution_count": 20,
   "metadata": {},
   "outputs": [],
   "source": [
    "# from pprint import pprint\n",
    "# pprint(news_soup)"
   ]
  },
  {
   "cell_type": "code",
   "execution_count": 21,
   "metadata": {},
   "outputs": [
    {
     "name": "stdout",
     "output_type": "stream",
     "text": [
      "NASA's Mars 2020 Heads Into the Test Chamber\n",
      "In this time-lapse video taken at JPL, engineers move the Mars 2020 rover into a large vacuum chamber for testing in Mars-like environmental conditions.\n"
     ]
    }
   ],
   "source": [
    "mars_news_result = news_soup.find_all('div', class_='list_text')[0]\n",
    "news_title = mars_news_result.find('div', class_='content_title').text\n",
    "news_p = mars_news_result.find('div', class_='article_teaser_body').text\n",
    "\n",
    "print(news_title)\n",
    "print(news_p)"
   ]
  },
  {
   "cell_type": "code",
   "execution_count": 22,
   "metadata": {},
   "outputs": [],
   "source": [
    "# i worked with my ta jay"
   ]
  },
  {
   "cell_type": "markdown",
   "metadata": {},
   "source": [
    "# JPL Mars Space Images- Featured image"
   ]
  },
  {
   "cell_type": "code",
   "execution_count": 23,
   "metadata": {},
   "outputs": [],
   "source": [
    "browser = Browser('chrome', **executable_path, headless=False)\n",
    "url = 'https://spaceimages-mars.com/'\n",
    "browser.visit(url)\n",
    "time.sleep(1)\n",
    "html = browser.html\n",
    "spaceimage_soup = soup(html, 'html.parser')\n",
    "browser.quit()"
   ]
  },
  {
   "cell_type": "code",
   "execution_count": 24,
   "metadata": {},
   "outputs": [
    {
     "name": "stdout",
     "output_type": "stream",
     "text": [
      "<html class=\"\"><head>\n",
      "<meta charset=\"utf-8\"/>\n",
      "<meta content=\"width=device-width, initial-scale=1\" name=\"viewport\"/>\n",
      "<link href=\"https://maxcdn.bootstrapcdn.com/bootstrap/4.0.0/css/bootstrap.min.css\" rel=\"stylesheet\"/>\n",
      "<!-- <link rel=\"stylesheet\" type=\"text/css\" href=\"css/font.css\"> -->\n",
      "<link href=\"css/app.css\" rel=\"stylesheet\" type=\"text/css\"/>\n",
      "<link href=\"https://stackpath.bootstrapcdn.com/font-awesome/4.7.0/css/font-awesome.min.css\" rel=\"stylesheet\" type=\"text/css\"/>\n",
      "<title>Space Image</title>\n",
      "<style type=\"text/css\">.fancybox-margin{margin-right:17px;}</style></head>\n",
      "<body>\n",
      "<div class=\"header\">\n",
      "<nav class=\"navbar navbar-expand-lg\">\n",
      "<a class=\"navbar-brand\" href=\"#\"><img id=\"logo\" src=\"image/nasa.png\"/><span class=\"logo\">Jet Propulsion Laboratory</span>\n",
      "<span class=\"logo1\">California Institute of Technology</span></a>\n",
      "<button aria-controls=\"navbarNav\" aria-expanded=\"false\" aria-label=\"Toggle navigation\" class=\"navbar-toggler\" data-target=\"#navbarNav\" data-toggle=\"collapse\" type=\"button\">\n",
      "<span class=\"navbar-toggler-icon\"></span>\n",
      "</button>\n",
      "<div class=\"collapse navbar-collapse justify-content-end\" id=\"navbarNav\">\n",
      "<ul class=\"navbar-nav\">\n",
      "<li class=\"nav-item active\">\n",
      "<a class=\"nav-link\" href=\"#\"><i aria-hidden=\"true\" class=\"fa fa-bars\"></i>   MENU   <i aria-hidden=\"true\" class=\"fa fa-search\"></i></a>\n",
      "</li>\n",
      "</ul>\n",
      "</div>\n",
      "</nav>\n",
      "<div class=\"floating_text_area\">\n",
      "<h2 class=\"brand_title\">FEATURED IMAGE</h2>\n",
      "<h1 class=\"media_feature_title\">Dusty Space Cloud</h1>\n",
      "<br/>\n",
      "<a class=\"showimg fancybox-thumbs\" href=\"image/featured/mars2.jpg\" target=\"_blank\"> <button class=\"btn btn-outline-light\"> FULL IMAGE</button></a>\n",
      "</div>\n",
      "<img class=\"headerimage fade-in\" src=\"image/featured/mars2.jpg\"/></div>\n",
      "<div class=\"search sticky\">\n",
      "<div class=\"col-md-12\">\n",
      "<div class=\"row\">\n",
      "<div class=\"col-md-6\">\n",
      "<input name=\"Search\" placeholder=\"Search\" type=\"text\"/>\n",
      "</div>\n",
      "<div class=\"col-md-6\">\n",
      "<select aria-label=\"Default select example\" class=\"form-select\" id=\"options\">\n",
      "<option onchange=\"0\" selected=\"\">Mars</option>\n",
      "<!-- <option data-filter=\"sun\" class=\"button\">Mars</option> -->\n",
      "<option class=\"button\" data-filter=\"Sun\">Sun</option>\n",
      "<option class=\"button\" data-filter=\"earth\">Earth</option>\n",
      "<option class=\"button\" data-filter=\"ida\">Ida</option>\n",
      "<option class=\"button\" data-filter=\"jupiter\">Jupiter</option>\n",
      "<option class=\"button\" data-filter=\"venus\">Venus</option>\n",
      "</select>\n",
      "</div>\n",
      "</div>\n",
      "</div>\n",
      "</div>\n",
      "<div class=\"container mt-5\">\n",
      "<div class=\"col-md-12\">\n",
      "<div class=\"row\">\n",
      "<div class=\"col-md-6\">\n",
      "<h1>Images</h1>\n",
      "</div>\n",
      "<div class=\"col-md-6\" id=\"icon\">\n",
      "<div class=\"icon2\"></div>\n",
      "<div class=\"icon1\"></div>\n",
      "</div>\n",
      "</div>\n",
      "</div>\n",
      "<!-- first div -->\n",
      "<div class=\"div1\" id=\"filter\">\n",
      "<div class=\"thmbgroup\"><a class=\"fancybox-thumbs\" data-fancybox-group=\"thumb\" href=\"image/mars/Icaria Fossae7.jpg\"><div class=\"thmb\"><img alt=\"\" class=\"thumbimg\" src=\"image/mars/Icaria Fossae7.jpg\"/><p class=\"thumbcontent\">January 1, 2020<br/>Icaria Fossae7</p></div></a><a class=\"fancybox-thumbs\" data-fancybox-group=\"thumb\" href=\"image/mars/Proctor Crater Dunes 7.jpg\"><div class=\"thmb\"><img alt=\"\" class=\"thumbimg\" src=\"image/mars/Proctor Crater Dunes 7.jpg\"/><p class=\"thumbcontent\">December 31, 2020<br/>Proctor Crater Dunes</p></div></a><a class=\"fancybox-thumbs\" data-fancybox-group=\"thumb\" href=\"image/mars/Icaria Fossae7.jpg\"><div class=\"thmb\"><img alt=\"\" class=\"thumbimg\" src=\"image/mars/Icaria Fossae7.jpg\"/><p class=\"thumbcontent\">December 31, 2020<br/>Icaria Fossae</p></div></a><a class=\"fancybox-thumbs\" data-fancybox-group=\"thumb\" href=\"image/mars/Proctor Crater Dunes 7.jpg\"><div class=\"thmb\"><img alt=\"\" class=\"thumbimg\" src=\"image/mars/Proctor Crater Dunes 7.jpg\"/><p class=\"thumbcontent\">December 29, 2020<br/>Proctor Crater Dunes</p></div></a><a class=\"fancybox-thumbs\" data-fancybox-group=\"thumb\" href=\"image/mars/Proctor Crater Dunes 7.jpg\"><div class=\"thmb\"><img alt=\"\" class=\"thumbimg\" src=\"image/mars/Proctor Crater Dunes 7.jpg\"/><p class=\"thumbcontent\">December 28, 2020<br/>roctor Crater Dunes</p></div></a><a class=\"fancybox-thumbs\" data-fancybox-group=\"thumb\" href=\"image/mars/Icaria Fossae7.jpg\"><div class=\"thmb\"><img alt=\"\" class=\"thumbimg\" src=\"image/mars/Icaria Fossae7.jpg\"/><p class=\"thumbcontent\">December 22, 2020<br/>Icaria Fossae</p></div></a><a class=\"fancybox-thumbs\" data-fancybox-group=\"thumb\" href=\"image/mars/Icaria Fossae.jpg\"><div class=\"thmb\"><img alt=\"\" class=\"thumbimg\" src=\"image/mars/Icaria Fossae.jpg\"/><p class=\"thumbcontent\">December 21, 2020<br/>Icaria Fossae</p></div></a><a class=\"fancybox-thumbs\" data-fancybox-group=\"thumb\" href=\"image/mars/Ariadnes Colles4.jpg\"><div class=\"thmb\"><img alt=\"\" class=\"thumbimg\" src=\"image/mars/Ariadnes Colles4.jpg\"/><p class=\"thumbcontent\">December 18, 2020<br/>Ariadnes Colles</p></div></a><a class=\"fancybox-thumbs\" data-fancybox-group=\"thumb\" href=\"image/mars/Niger Vallis.jpg\"><div class=\"thmb\"><img alt=\"\" class=\"thumbimg\" src=\"image/mars/Niger Vallis.jpg\"/><p class=\"thumbcontent\">December 17, 2020<br/>Niger Vallis</p></div></a><a class=\"fancybox-thumbs\" data-fancybox-group=\"thumb\" href=\"image/mars/Proctor Crater Dunes.jpg\"><div class=\"thmb\"><img alt=\"\" class=\"thumbimg\" src=\"image/mars/Proctor Crater Dunes.jpg\"/><p class=\"thumbcontent\">December 16, 2020<br/>Proctor Crater Dunes</p></div></a><a class=\"fancybox-thumbs\" data-fancybox-group=\"thumb\" href=\"image/mars/Niger Vallis.jpg\"><div class=\"thmb\"><img alt=\"\" class=\"thumbimg\" src=\"image/mars/Niger Vallis.jpg\"/><p class=\"thumbcontent\">December 15, 2020<br/>Niger Vallis</p></div></a><a class=\"fancybox-thumbs\" data-fancybox-group=\"thumb\" href=\"image/mars/Daedalia Planum.jpg\"><div class=\"thmb\"><img alt=\"\" class=\"thumbimg\" src=\"image/mars/Daedalia Planum.jpg\"/><p class=\"thumbcontent\">December 11, 2020<br/>Daedalia Planum</p></div></a><a class=\"fancybox-thumbs\" data-fancybox-group=\"thumb\" href=\"image/mars/Sirenum Fossae.jpg\"><div class=\"thmb\"><img alt=\"\" class=\"thumbimg\" src=\"image/mars/Sirenum Fossae.jpg\"/><p class=\"thumbcontent\">November,11, 2020<br/>Sirenum Fossae</p></div></a><a class=\"fancybox-thumbs\" data-fancybox-group=\"thumb\" href=\"image/mars/Ariadnes Colles4.jpg\"><div class=\"thmb\"><img alt=\"\" class=\"thumbimg\" src=\"image/mars/Ariadnes Colles4.jpg\"/><p class=\"thumbcontent\">November,13, 2020<br/>Ariadnes Colles</p></div></a><a class=\"fancybox-thumbs\" data-fancybox-group=\"thumb\" href=\"image/mars/South Polar Cap.jpg\"><div class=\"thmb\"><img alt=\"\" class=\"thumbimg\" src=\"image/mars/South Polar Cap.jpg\"/><p class=\"thumbcontent\">November,14, 2020<br/>South Polar Cap</p></div></a><a class=\"fancybox-thumbs\" data-fancybox-group=\"thumb\" href=\"image/mars/Daedalia Planum.jpg\"><div class=\"thmb\"><img alt=\"\" class=\"thumbimg\" src=\"image/mars/Daedalia Planum.jpg\"/><p class=\"thumbcontent\">November,17, 2020<br/>Daedalia Planum</p></div></a><a class=\"fancybox-thumbs\" data-fancybox-group=\"thumb\" href=\"image/mars/Ariadnes Colles3.jpg\"><div class=\"thmb\"><img alt=\"\" class=\"thumbimg\" src=\"image/mars/Ariadnes Colles3.jpg\"/><p class=\"thumbcontent\">November,11, 2020<br/>Ariadnes Colles</p></div></a><a class=\"fancybox-thumbs\" data-fancybox-group=\"thumb\" href=\"image/mars/Atlantis Chaos.jpg\"><div class=\"thmb\"><img alt=\"\" class=\"thumbimg\" src=\"image/mars/Atlantis Chaos.jpg\"/><p class=\"thumbcontent\">November,09, 2020<br/>Atlantis Chaos</p></div></a><a class=\"fancybox-thumbs\" data-fancybox-group=\"thumb\" href=\"image/mars/Daedalia Planum.jpg\"><div class=\"thmb\"><img alt=\"\" class=\"thumbimg\" src=\"image/mars/Daedalia Planum.jpg\"/><p class=\"thumbcontent\">January 1, 2020<br/>Daedalia Planum</p></div></a><a class=\"fancybox-thumbs\" data-fancybox-group=\"thumb\" href=\"image/mars/Icaria Fossae.jpg\"><div class=\"thmb\"><img alt=\"\" class=\"thumbimg\" src=\"image/mars/Icaria Fossae.jpg\"/><p class=\"thumbcontent\">January 1, 2020<br/>Icaria Fossae</p></div></a><a class=\"fancybox-thumbs\" data-fancybox-group=\"thumb\" href=\"image/mars/Niger Vallis.jpg\"><div class=\"thmb\"><img alt=\"\" class=\"thumbimg\" src=\"image/mars/Niger Vallis.jpg\"/><p class=\"thumbcontent\">January 1, 2020<br/>Niger Vallis</p></div></a><a class=\"fancybox-thumbs\" data-fancybox-group=\"thumb\" href=\"image/mars/Proctor Crater Dunes.jpg\"><div class=\"thmb\"><img alt=\"\" class=\"thumbimg\" src=\"image/mars/Proctor Crater Dunes.jpg\"/><p class=\"thumbcontent\">January 1, 2020<br/>Proctor Crater Dunes</p></div></a><a class=\"fancybox-thumbs\" data-fancybox-group=\"thumb\" href=\"image/mars/Reull Vallis.jpg\"><div class=\"thmb\"><img alt=\"\" class=\"thumbimg\" src=\"image/mars/Reull Vallis.jpg\"/><p class=\"thumbcontent\">January 1, 2020<br/>Reull Vallis</p></div></a><a class=\"fancybox-thumbs\" data-fancybox-group=\"thumb\" href=\"image/mars/Ariadnes Colles3.jpg\"><div class=\"thmb\"><img alt=\"\" class=\"thumbimg\" src=\"image/mars/Ariadnes Colles3.jpg\"/><p class=\"thumbcontent\">January 1, 2020<br/>Ariadnes Colles</p></div></a><a class=\"fancybox-thumbs\" data-fancybox-group=\"thumb\" href=\"image/mars/Sirenum Fossae.jpg\"><div class=\"thmb\"><img alt=\"\" class=\"thumbimg\" src=\"image/mars/Sirenum Fossae.jpg\"/><p class=\"thumbcontent\">January 1, 2020<br/>Sirenum Fossae</p></div></a><a class=\"fancybox-thumbs\" data-fancybox-group=\"thumb\" href=\"image/mars/South Polar Cap.jpg\"><div class=\"thmb\"><img alt=\"\" class=\"thumbimg\" src=\"image/mars/South Polar Cap.jpg\"/><p class=\"thumbcontent\">January 1, 2020<br/>South Polar Cap</p></div></a><a class=\"fancybox-thumbs\" data-fancybox-group=\"thumb\" href=\"image/mars/Niger Vallis.jpg\"><div class=\"thmb\"><img alt=\"\" class=\"thumbimg\" src=\"image/mars/Niger Vallis.jpg\"/><p class=\"thumbcontent\">January 1, 2020<br/>Niger Vallis</p></div></a><a class=\"fancybox-thumbs\" data-fancybox-group=\"thumb\" href=\"image/mars/Daedalia Planum.jpg\"><div class=\"thmb\"><img alt=\"\" class=\"thumbimg\" src=\"image/mars/Daedalia Planum.jpg\"/><p class=\"thumbcontent\">January 1, 2020<br/>Daedalia Planum</p></div></a><a class=\"fancybox-thumbs\" data-fancybox-group=\"thumb\" href=\"image/mars/Icaria Fossae.jpg\"><div class=\"thmb\"><img alt=\"\" class=\"thumbimg\" src=\"image/mars/Icaria Fossae.jpg\"/><p class=\"thumbcontent\">January 1, 2020<br/>Icaria Fossae</p></div></a><a class=\"fancybox-thumbs\" data-fancybox-group=\"thumb\" href=\"image/mars/Ariadnes Colles4.jpg\"><div class=\"thmb\"><img alt=\"\" class=\"thumbimg\" src=\"image/mars/Ariadnes Colles4.jpg\"/><p class=\"thumbcontent\">January 1, 2020<br/>Ariadnes Colles</p></div></a><a class=\"fancybox-thumbs\" data-fancybox-group=\"thumb\" href=\"image/mars/South Polar Cap.jpg\"><div class=\"thmb\"><img alt=\"\" class=\"thumbimg\" src=\"image/mars/South Polar Cap.jpg\"/><p class=\"thumbcontent\">January 1, 2020<br/>South Polar Cap</p></div></a><a class=\"fancybox-thumbs\" data-fancybox-group=\"thumb\" href=\"image/mars/Daedalia Planum.jpg\"><div class=\"thmb\"><img alt=\"\" class=\"thumbimg\" src=\"image/mars/Daedalia Planum.jpg\"/><p class=\"thumbcontent\">January 1, 2020<br/>Daedalia Planum</p></div></a></div>\n",
      "</div>\n",
      "<!-- first div ends -->\n",
      "<!-- second div starts -->\n",
      "<div class=\"col-md-12 grid-margin\" id=\"column\">\n",
      "<ul class=\"post-list\">\n",
      "<li class=\"post-heading\"></li>\n",
      "</ul>\n",
      "</div>\n",
      "<!-- second div starts -->\n",
      "</div>\n",
      "<div class=\"first imgcontainer mt-3\">\n",
      "<div class=\"col-md-12\">\n",
      "<div class=\"row\">\n",
      "<div class=\"col-md-3\">\n",
      "<img id=\"pic\" src=\"\"/>\n",
      "</div>\n",
      "</div>\n",
      "</div>\n",
      "</div>\n",
      "<!-- end -->\n",
      "<div class=\"module_gallery container\">\n",
      "<div class=\"col-md-12\">\n",
      "<div class=\"row\">\n",
      "<div class=\"col-md-6\">\n",
      "<div class=\"card\">\n",
      "<img alt=\"Card image cap\" class=\"card-img-top\" src=\"https://www.jpl.nasa.gov/assets/images/content/tmp/images/jpl_photojournal(3x1).jpg\"/>\n",
      "<div class=\"card-body\">\n",
      "<h5 class=\"card-title\">JPL Photojournal</h5>\n",
      "<p class=\"card-text\">Access to the full library of publicly released images from various Solar System exploration programs</p>\n",
      "</div>\n",
      "</div>\n",
      "</div>\n",
      "<div class=\"col-md-6\">\n",
      "<div class=\"card\">\n",
      "<img alt=\"Card image cap\" class=\"card-img-top\" src=\"https://www.jpl.nasa.gov/assets/images/content/tmp/images/nasa_images(3x1).jpg\"/>\n",
      "<div class=\"card-body\">\n",
      "<h5 class=\"card-title\">Great images in NASA</h5>\n",
      "<p class=\"card-text\">A selection of the best-known images from a half-century of exploration and discovery</p>\n",
      "</div>\n",
      "</div>\n",
      "</div>\n",
      "</div>\n",
      "</div>\n",
      "</div>\n",
      "<div class=\"multi_teaser\">\n",
      "<div class=\"container\">\n",
      "<h1>You Might Also Like</h1>\n",
      "<div class=\"col-md-12 mt-5\">\n",
      "<div class=\"row\">\n",
      "<div class=\"col-md-4\">\n",
      "<div class=\"card\">\n",
      "<img alt=\"Card image cap\" class=\"card-img-top\" src=\"https://imagecache.jpl.nasa.gov/images/640x350/C1-PIA24304---CatScanMars-16-640x350.gif\"/>\n",
      "<div class=\"card-body\">\n",
      "<p class=\"card-text\">Access to the full library of publicly released images from various Solar System exploration programs</p>\n",
      "</div>\n",
      "</div>\n",
      "</div>\n",
      "<div class=\"col-md-4\">\n",
      "<div class=\"card\">\n",
      "<img alt=\"Card image cap\" class=\"card-img-top\" src=\"https://imagecache.jpl.nasa.gov/images/640x350/PIA23491-16-640x350.jpg\"/>\n",
      "<div class=\"card-body\">\n",
      "<p class=\"card-text\">Access to the full library of publicly released images from various Solar System exploration programs</p>\n",
      "</div>\n",
      "</div>\n",
      "</div>\n",
      "<div class=\"col-md-4\">\n",
      "<div class=\"card\">\n",
      "<img alt=\"Card image cap\" class=\"card-img-top\" src=\"https://imagecache.jpl.nasa.gov/images/640x350/C1-PIA23180-16-640x350.gif\"/>\n",
      "<div class=\"card-body\">\n",
      "<p class=\"card-text\">Access to the full library of publicly released images from various Solar System exploration programs</p>\n",
      "</div>\n",
      "</div>\n",
      "</div>\n",
      "</div>\n",
      "</div>\n",
      "</div>\n",
      "</div>\n",
      "<div class=\"footer\">\n",
      "<div class=\"container\">\n",
      "<div class=\"col-md-12\">\n",
      "<div class=\"row\">\n",
      "<div class=\"col-md-3\">\n",
      "<h4>About JPL</h4>\n",
      "<ul>\n",
      "<li>About JPL</li>\n",
      "<li>JPL Vision</li>\n",
      "<li>Executive Council</li>\n",
      "<li>History</li>\n",
      "</ul>\n",
      "</div>\n",
      "<div class=\"col-md-3\">\n",
      "<h4>Education</h4>\n",
      "<ul>\n",
      "<li>Intern</li>\n",
      "<li>Learn</li>\n",
      "<li>Teach</li>\n",
      "<li>News</li>\n",
      "</ul>\n",
      "</div>\n",
      "<div class=\"col-md-3\">\n",
      "<h4>Our Sites</h4>\n",
      "<ul>\n",
      "<li>Asteroid Watch</li>\n",
      "<li>Basics of Spaceflight</li>\n",
      "<li>Cassini - Mission to Saturn</li>\n",
      "<li>Climate Kids</li>\n",
      "</ul>\n",
      "</div>\n",
      "<div class=\"col-md-3\">\n",
      "<h4>Galleries</h4>\n",
      "<ul>\n",
      "<li>JPL Space Images</li>\n",
      "<li>Videos</li>\n",
      "<li>Infographics</li>\n",
      "<li>Photojournal</li>\n",
      "</ul>\n",
      "</div>\n",
      "</div>\n",
      "</div>\n",
      "</div>\n",
      "</div>\n",
      "<!--<div class=\"showFullimage\">\n",
      "\t<button class=\"btn btn-outline-light hideimage\" onclick=hideimage()> Close</button>\n",
      "\t<img class=\"fullimage fade-in\" src=\"\">\n",
      "</div>-->\n",
      "<!-- <script src=\"js/jquery.easeScroll.js\"></script>  -->\n",
      "<script src=\"js/jquery-3.5.1.min.js\"></script>\n",
      "<!-- <script src=\"js/jquery-3.2.1.slim.min.js\"></script> -->\n",
      "<script src=\"js/demo.js\"></script>\n",
      "<!-- <script src=\"js/app.js\"></script> -->\n",
      "<script src=\"https://cdnjs.cloudflare.com/ajax/libs/popper.js/1.12.9/umd/popper.min.js\"></script>\n",
      "<script src=\"https://maxcdn.bootstrapcdn.com/bootstrap/4.0.0/js/bootstrap.min.js\"></script>\n",
      "<script src=\"js/fancyBox/jquery.fancybox.pack.js?v=2.1.5\" type=\"text/javascript\"></script>\n",
      "<link href=\"js/fancyBox/jquery.fancybox.css?v=2.1.5\" media=\"screen\" rel=\"stylesheet\" type=\"text/css\"/>\n",
      "<link href=\"js/fancyBox/helpers/jquery.fancybox-thumbs.css?v=1.0.7\" rel=\"stylesheet\" type=\"text/css\"/>\n",
      "<script src=\"js/fancyBox/helpers/jquery.fancybox-thumbs.js?v=1.0.7\" type=\"text/javascript\"></script>\n",
      "</body></html>\n"
     ]
    }
   ],
   "source": [
    "print(spaceimage_soup)"
   ]
  },
  {
   "cell_type": "code",
   "execution_count": 25,
   "metadata": {},
   "outputs": [
    {
     "data": {
      "text/plain": [
       "'https://spaceimages-mars.com/image/featured/mars2.jpg'"
      ]
     },
     "execution_count": 25,
     "metadata": {},
     "output_type": "execute_result"
    }
   ],
   "source": [
    "spaceimage_soup_result = spaceimage_soup.find_all('div', class_='floating_text_area')[0]\n",
    "featured_image_url = spaceimage_soup_result.find('a', class_='showimg fancybox-thumbs').get('href')\n",
    "\n",
    "featured_image_url = url + featured_image_url\n",
    "featured_image_url"
   ]
  },
  {
   "cell_type": "markdown",
   "metadata": {},
   "source": [
    "# mars facts"
   ]
  },
  {
   "cell_type": "code",
   "execution_count": 26,
   "metadata": {},
   "outputs": [],
   "source": [
    "mars_table = pd.read_html('https://space-facts.com/mars/')[0]\n",
    "mars_table.columns = ['Description', 'Metrics']\n",
    "mars_table_html = mars_table.to_html()"
   ]
  },
  {
   "cell_type": "markdown",
   "metadata": {},
   "source": [
    "# mars hemispheres"
   ]
  },
  {
   "cell_type": "code",
   "execution_count": 27,
   "metadata": {},
   "outputs": [],
   "source": [
    "browser = Browser('chrome', **executable_path, headless=False)\n",
    "url = 'https://marshemispheres.com/'\n",
    "browser.visit(url)\n",
    "time.sleep(2)\n",
    "html = browser.html\n",
    "hemisphere_soup = soup(html, 'html.parser')\n",
    "browser.quit()"
   ]
  },
  {
   "cell_type": "code",
   "execution_count": 28,
   "metadata": {},
   "outputs": [],
   "source": [
    "#browser.find_by_css('a.product-item img')[0].click()"
   ]
  },
  {
   "cell_type": "code",
   "execution_count": 29,
   "metadata": {},
   "outputs": [
    {
     "data": {
      "text/plain": [
       "['schiaparelli.html', 'syrtis.html', 'valles.html', 'cerberus.html']"
      ]
     },
     "execution_count": 29,
     "metadata": {},
     "output_type": "execute_result"
    }
   ],
   "source": [
    "hemisphere_img_list = hemisphere_soup.find_all('a', class_='itemLink product-item')\n",
    "hrefs = []\n",
    "for img_url in hemisphere_img_list:\n",
    "    hrefs.append(img_url.get('href'))\n",
    "    \n",
    "hrefs = hrefs[:-1]\n",
    "hrefs = list(set(hrefs))\n",
    "hrefs"
   ]
  },
  {
   "cell_type": "code",
   "execution_count": 30,
   "metadata": {},
   "outputs": [
    {
     "data": {
      "text/plain": [
       "[{'title': 'Schiaparelli Hemisphere',\n",
       "  'img_url': 'https://marshemispheres.com/images/schiaparelli_enhanced-full.jpg'},\n",
       " {'title': 'Syrtis Major Hemisphere',\n",
       "  'img_url': 'https://marshemispheres.com/images/syrtis_major_enhanced-full.jpg'},\n",
       " {'title': 'Valles Marineris Hemisphere',\n",
       "  'img_url': 'https://marshemispheres.com/images/valles_marineris_enhanced-full.jpg'},\n",
       " {'title': 'Cerberus Hemisphere',\n",
       "  'img_url': 'https://marshemispheres.com/images/full.jpg'}]"
      ]
     },
     "execution_count": 30,
     "metadata": {},
     "output_type": "execute_result"
    }
   ],
   "source": [
    "hemisphere_img_urls = []\n",
    "\n",
    "browser = Browser('chrome', **executable_path, headless=False)\n",
    "\n",
    "for img_url in hrefs:\n",
    "    secondary_link = url + img_url\n",
    "    \n",
    "    browser.visit(secondary_link)\n",
    "    time.sleep(2)\n",
    "    \n",
    "    html = browser.html\n",
    "    secondary_link_soup = soup(html, 'html.parser')\n",
    "    \n",
    "    img_title = secondary_link_soup.find('h2', class_='title').text \n",
    "    img_title = img_title.replace(' Enhanced','')\n",
    "    \n",
    "    final_url = secondary_link_soup.find('a', text = 'Sample').get('href')\n",
    "    final_url = url + final_url \n",
    "    \n",
    "    d = {\"title\": img_title, \"img_url\": final_url}\n",
    "    hemisphere_img_urls.append(d)\n",
    "    \n",
    "browser.quit()\n",
    "\n",
    "hemisphere_img_urls"
   ]
  },
  {
   "cell_type": "code",
   "execution_count": null,
   "metadata": {},
   "outputs": [],
   "source": []
  }
 ],
 "metadata": {
  "kernelspec": {
   "display_name": "Python 3",
   "language": "python",
   "name": "python3"
  },
  "language_info": {
   "codemirror_mode": {
    "name": "ipython",
    "version": 3
   },
   "file_extension": ".py",
   "mimetype": "text/x-python",
   "name": "python",
   "nbconvert_exporter": "python",
   "pygments_lexer": "ipython3",
   "version": "3.8.5"
  }
 },
 "nbformat": 4,
 "nbformat_minor": 4
}
